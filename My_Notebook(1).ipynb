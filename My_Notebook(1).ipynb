{
  "metadata": {
    "kernelspec": {
      "name": "python",
      "display_name": "Pyolite",
      "language": "python"
    },
    "language_info": {
      "codemirror_mode": {
        "name": "python",
        "version": 3
      },
      "file_extension": ".py",
      "mimetype": "text/x-python",
      "name": "python",
      "nbconvert_exporter": "python",
      "pygments_lexer": "ipython3",
      "version": "3.8"
    }
  },
  "nbformat_minor": 4,
  "nbformat": 4,
  "cells": [
    {
      "cell_type": "markdown",
      "source": "<center>\n    <img src=\"https://s3-api.us-geo.objectstorage.softlayer.net/cf-courses-data/CognitiveClass/Logos/organization_logo/organization_logo.png\" width=\"300\" alt=\"cognitiveclass.ai logo\"  />\n</center>\n",
      "metadata": {}
    },
    {
      "cell_type": "markdown",
      "source": "#### Add your code below following the instructions given in the course\n",
      "metadata": {}
    },
    {
      "cell_type": "markdown",
      "source": "# My Jupyter Notebook on IBM Watson Studio",
      "metadata": {}
    },
    {
      "cell_type": "markdown",
      "source": "__Soumyajit Basu__<br>\nSAP Analytics Consultant",
      "metadata": {}
    },
    {
      "cell_type": "markdown",
      "source": "*I'm interested in data science bacaus I want upgrade my 15 years of experience in field of analytics.*",
      "metadata": {}
    },
    {
      "cell_type": "markdown",
      "source": "### Below code will add two numbers",
      "metadata": {}
    },
    {
      "cell_type": "code",
      "source": "5+6",
      "metadata": {
        "trusted": true
      },
      "execution_count": 5,
      "outputs": [
        {
          "execution_count": 5,
          "output_type": "execute_result",
          "data": {
            "text/plain": "11"
          },
          "metadata": {}
        }
      ]
    },
    {
      "cell_type": "markdown",
      "source": ">- This is example of bullet with blocked qoute",
      "metadata": {}
    },
    {
      "cell_type": "markdown",
      "source": "____________________________________",
      "metadata": {}
    },
    {
      "cell_type": "markdown",
      "source": "https://www.google.com/",
      "metadata": {}
    },
    {
      "cell_type": "code",
      "source": "",
      "metadata": {},
      "execution_count": null,
      "outputs": []
    }
  ]
}